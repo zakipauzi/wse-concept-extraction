{
 "cells": [
  {
   "cell_type": "markdown",
   "metadata": {},
   "source": [
    "# Concept Extraction for XMLEditor"
   ]
  },
  {
   "cell_type": "code",
   "execution_count": 1,
   "metadata": {},
   "outputs": [],
   "source": [
    "import pandas as pd\n",
    "\n",
    "df_info = pd.read_csv('xml_editor.csv', header=None, encoding='utf-8')\n",
    "df_info = df_info.rename(columns={0:'project',1:'module_ID',2:'class_ID',3:'class_name',4:'class_path'})"
   ]
  },
  {
   "cell_type": "markdown",
   "metadata": {},
   "source": [
    "## Only extract Module 1"
   ]
  },
  {
   "cell_type": "code",
   "execution_count": 2,
   "metadata": {},
   "outputs": [],
   "source": [
    "df_info = df_info[df_info['module_ID'] == 1]"
   ]
  },
  {
   "cell_type": "code",
   "execution_count": 3,
   "metadata": {},
   "outputs": [
    {
     "data": {
      "text/html": [
       "<div>\n",
       "<style scoped>\n",
       "    .dataframe tbody tr th:only-of-type {\n",
       "        vertical-align: middle;\n",
       "    }\n",
       "\n",
       "    .dataframe tbody tr th {\n",
       "        vertical-align: top;\n",
       "    }\n",
       "\n",
       "    .dataframe thead th {\n",
       "        text-align: right;\n",
       "    }\n",
       "</style>\n",
       "<table border=\"1\" class=\"dataframe\">\n",
       "  <thead>\n",
       "    <tr style=\"text-align: right;\">\n",
       "      <th></th>\n",
       "      <th>project</th>\n",
       "      <th>module_ID</th>\n",
       "      <th>class_ID</th>\n",
       "      <th>class_name</th>\n",
       "      <th>class_path</th>\n",
       "    </tr>\n",
       "  </thead>\n",
       "  <tbody>\n",
       "    <tr>\n",
       "      <th>0</th>\n",
       "      <td>XMLEditor</td>\n",
       "      <td>1</td>\n",
       "      <td>33</td>\n",
       "      <td>ctietze.xmleditor.gui.editor.EditorWindow</td>\n",
       "      <td>/XMLEditor/ctietze/xmleditor/gui/editor/Editor...</td>\n",
       "    </tr>\n",
       "    <tr>\n",
       "      <th>1</th>\n",
       "      <td>XMLEditor</td>\n",
       "      <td>1</td>\n",
       "      <td>17</td>\n",
       "      <td>ctietze.xmleditor.actions.AbstractEditorAction</td>\n",
       "      <td>/XMLEditor/ctietze/xmleditor/actions/AbstractE...</td>\n",
       "    </tr>\n",
       "    <tr>\n",
       "      <th>2</th>\n",
       "      <td>XMLEditor</td>\n",
       "      <td>1</td>\n",
       "      <td>16</td>\n",
       "      <td>ctietze.xmleditor.actions.AbstractEditMenuAction</td>\n",
       "      <td>/XMLEditor/ctietze/xmleditor/actions/AbstractE...</td>\n",
       "    </tr>\n",
       "    <tr>\n",
       "      <th>3</th>\n",
       "      <td>XMLEditor</td>\n",
       "      <td>1</td>\n",
       "      <td>30</td>\n",
       "      <td>ctietze.xmleditor.actions.SaveAsAction</td>\n",
       "      <td>/XMLEditor/ctietze/xmleditor/actions/SaveAsAct...</td>\n",
       "    </tr>\n",
       "    <tr>\n",
       "      <th>4</th>\n",
       "      <td>XMLEditor</td>\n",
       "      <td>1</td>\n",
       "      <td>36</td>\n",
       "      <td>ctietze.xmleditor.Resources</td>\n",
       "      <td>/XMLEditor/ctietze/xmleditor/Resources.java</td>\n",
       "    </tr>\n",
       "  </tbody>\n",
       "</table>\n",
       "</div>"
      ],
      "text/plain": [
       "     project  module_ID  class_ID  \\\n",
       "0  XMLEditor          1        33   \n",
       "1  XMLEditor          1        17   \n",
       "2  XMLEditor          1        16   \n",
       "3  XMLEditor          1        30   \n",
       "4  XMLEditor          1        36   \n",
       "\n",
       "                                         class_name  \\\n",
       "0         ctietze.xmleditor.gui.editor.EditorWindow   \n",
       "1    ctietze.xmleditor.actions.AbstractEditorAction   \n",
       "2  ctietze.xmleditor.actions.AbstractEditMenuAction   \n",
       "3            ctietze.xmleditor.actions.SaveAsAction   \n",
       "4                       ctietze.xmleditor.Resources   \n",
       "\n",
       "                                          class_path  \n",
       "0  /XMLEditor/ctietze/xmleditor/gui/editor/Editor...  \n",
       "1  /XMLEditor/ctietze/xmleditor/actions/AbstractE...  \n",
       "2  /XMLEditor/ctietze/xmleditor/actions/AbstractE...  \n",
       "3  /XMLEditor/ctietze/xmleditor/actions/SaveAsAct...  \n",
       "4        /XMLEditor/ctietze/xmleditor/Resources.java  "
      ]
     },
     "execution_count": 3,
     "metadata": {},
     "output_type": "execute_result"
    }
   ],
   "source": [
    "df_info.head()"
   ]
  },
  {
   "cell_type": "code",
   "execution_count": 4,
   "metadata": {},
   "outputs": [
    {
     "name": "stdout",
     "output_type": "stream",
     "text": [
      "No. of classes: 22\n"
     ]
    }
   ],
   "source": [
    "print('No. of classes: {}'.format(df_info.shape[0]))"
   ]
  },
  {
   "cell_type": "markdown",
   "metadata": {},
   "source": [
    "## Class ID / names"
   ]
  },
  {
   "cell_type": "code",
   "execution_count": 5,
   "metadata": {},
   "outputs": [],
   "source": [
    "class_names = list(df_info.class_name)"
   ]
  },
  {
   "cell_type": "code",
   "execution_count": 6,
   "metadata": {},
   "outputs": [],
   "source": [
    "class_names = [x.split('.')[-1] for x in class_names]"
   ]
  },
  {
   "cell_type": "code",
   "execution_count": 7,
   "metadata": {},
   "outputs": [],
   "source": [
    "class_id = list(df_info.class_ID)"
   ]
  },
  {
   "cell_type": "markdown",
   "metadata": {},
   "source": [
    "## Extraction"
   ]
  },
  {
   "cell_type": "code",
   "execution_count": 8,
   "metadata": {},
   "outputs": [],
   "source": [
    "import spacy\n",
    "\n",
    "nlp = spacy.load('en_core_web_md')\n",
    "nlp.max_length = 4000000"
   ]
  },
  {
   "cell_type": "code",
   "execution_count": 9,
   "metadata": {},
   "outputs": [],
   "source": [
    "import code_extract as ce\n",
    "import re\n",
    "\n",
    "kw = ce.generate_kw()\n",
    "kw_pattern = re.compile(r'\\b(' + r'|'.join(kw) + r')\\b\\s*')\n",
    "\n",
    "extracted = []"
   ]
  },
  {
   "cell_type": "code",
   "execution_count": 10,
   "metadata": {},
   "outputs": [],
   "source": [
    "classes = list(df_info.class_path)\n",
    "classes = [x[1:] for x in classes]"
   ]
  },
  {
   "cell_type": "code",
   "execution_count": 11,
   "metadata": {},
   "outputs": [],
   "source": [
    "for class_path in classes:\n",
    "    extracted.append(ce.code_ingest(class_path, kw_pattern, nlp))"
   ]
  },
  {
   "cell_type": "markdown",
   "metadata": {},
   "source": [
    "## Output"
   ]
  },
  {
   "cell_type": "code",
   "execution_count": 12,
   "metadata": {},
   "outputs": [],
   "source": [
    "import numpy as np\n",
    "data = np.transpose([class_id, class_names, extracted])"
   ]
  },
  {
   "cell_type": "code",
   "execution_count": 13,
   "metadata": {},
   "outputs": [],
   "source": [
    "df = pd.DataFrame(data, columns = ['id', 'name', 'terms'])"
   ]
  },
  {
   "cell_type": "code",
   "execution_count": 14,
   "metadata": {},
   "outputs": [],
   "source": [
    "# df.to_csv('xmleditor_terms_module_1.csv', encoding='utf-8', index=False)"
   ]
  },
  {
   "cell_type": "code",
   "execution_count": 15,
   "metadata": {},
   "outputs": [
    {
     "data": {
      "text/html": [
       "<div>\n",
       "<style scoped>\n",
       "    .dataframe tbody tr th:only-of-type {\n",
       "        vertical-align: middle;\n",
       "    }\n",
       "\n",
       "    .dataframe tbody tr th {\n",
       "        vertical-align: top;\n",
       "    }\n",
       "\n",
       "    .dataframe thead th {\n",
       "        text-align: right;\n",
       "    }\n",
       "</style>\n",
       "<table border=\"1\" class=\"dataframe\">\n",
       "  <thead>\n",
       "    <tr style=\"text-align: right;\">\n",
       "      <th></th>\n",
       "      <th>id</th>\n",
       "      <th>name</th>\n",
       "      <th>terms</th>\n",
       "    </tr>\n",
       "  </thead>\n",
       "  <tbody>\n",
       "    <tr>\n",
       "      <th>0</th>\n",
       "      <td>33</td>\n",
       "      <td>EditorWindow</td>\n",
       "      <td>editor window frame window title xml editor di...</td>\n",
       "    </tr>\n",
       "    <tr>\n",
       "      <th>1</th>\n",
       "      <td>17</td>\n",
       "      <td>AbstractEditorAction</td>\n",
       "      <td>editor action action editor window editor wind...</td>\n",
       "    </tr>\n",
       "    <tr>\n",
       "      <th>2</th>\n",
       "      <td>16</td>\n",
       "      <td>AbstractEditMenuAction</td>\n",
       "      <td>edit menu action editor action tree selection ...</td>\n",
       "    </tr>\n",
       "    <tr>\n",
       "      <th>3</th>\n",
       "      <td>30</td>\n",
       "      <td>SaveAsAction</td>\n",
       "      <td>save action editor action tree model listener ...</td>\n",
       "    </tr>\n",
       "    <tr>\n",
       "      <th>4</th>\n",
       "      <td>36</td>\n",
       "      <td>Resources</td>\n",
       "      <td>resource resource bundle resource bundle resou...</td>\n",
       "    </tr>\n",
       "    <tr>\n",
       "      <th>5</th>\n",
       "      <td>18</td>\n",
       "      <td>AbstractUnsavedChangesAction</td>\n",
       "      <td>unsaved changes action save action save docume...</td>\n",
       "    </tr>\n",
       "    <tr>\n",
       "      <th>6</th>\n",
       "      <td>39</td>\n",
       "      <td>XMLDocument</td>\n",
       "      <td>xml document xml header xml node root node cho...</td>\n",
       "    </tr>\n",
       "    <tr>\n",
       "      <th>7</th>\n",
       "      <td>29</td>\n",
       "      <td>SaveAction</td>\n",
       "      <td>save action save action action action tooltip ...</td>\n",
       "    </tr>\n",
       "    <tr>\n",
       "      <th>8</th>\n",
       "      <td>19</td>\n",
       "      <td>AddAttributeAction</td>\n",
       "      <td>add attribute action edit menu action action a...</td>\n",
       "    </tr>\n",
       "    <tr>\n",
       "      <th>9</th>\n",
       "      <td>20</td>\n",
       "      <td>AddChildNodeAction</td>\n",
       "      <td>add child node action edit menu action action ...</td>\n",
       "    </tr>\n",
       "    <tr>\n",
       "      <th>10</th>\n",
       "      <td>23</td>\n",
       "      <td>DeleteNodeAction</td>\n",
       "      <td>delete node action edit menu action action con...</td>\n",
       "    </tr>\n",
       "    <tr>\n",
       "      <th>11</th>\n",
       "      <td>25</td>\n",
       "      <td>NewDummyTreeAction</td>\n",
       "      <td>dummy tree action unsaved change action action...</td>\n",
       "    </tr>\n",
       "    <tr>\n",
       "      <th>12</th>\n",
       "      <td>26</td>\n",
       "      <td>NewTreeAction</td>\n",
       "      <td>tree action unsaved change action action tree ...</td>\n",
       "    </tr>\n",
       "    <tr>\n",
       "      <th>13</th>\n",
       "      <td>27</td>\n",
       "      <td>OpenFileAction</td>\n",
       "      <td>open action unsaved change action action open ...</td>\n",
       "    </tr>\n",
       "    <tr>\n",
       "      <th>14</th>\n",
       "      <td>43</td>\n",
       "      <td>XMLTree</td>\n",
       "      <td>xml tree tree top node xml node create empty r...</td>\n",
       "    </tr>\n",
       "    <tr>\n",
       "      <th>15</th>\n",
       "      <td>34</td>\n",
       "      <td>TreeEditingKeyAdapter</td>\n",
       "      <td>editor window frame window title xml editor di...</td>\n",
       "    </tr>\n",
       "    <tr>\n",
       "      <th>16</th>\n",
       "      <td>24</td>\n",
       "      <td>ExpandAllAction</td>\n",
       "      <td>expand action edit menu action action expand a...</td>\n",
       "    </tr>\n",
       "    <tr>\n",
       "      <th>17</th>\n",
       "      <td>22</td>\n",
       "      <td>CollapseAllAction</td>\n",
       "      <td>collapse action edit menu action action collap...</td>\n",
       "    </tr>\n",
       "    <tr>\n",
       "      <th>18</th>\n",
       "      <td>21</td>\n",
       "      <td>CloseAction</td>\n",
       "      <td>close action unsaved change action action clos...</td>\n",
       "    </tr>\n",
       "    <tr>\n",
       "      <th>19</th>\n",
       "      <td>28</td>\n",
       "      <td>QuitAction</td>\n",
       "      <td>quit action unsaved change action action quit ...</td>\n",
       "    </tr>\n",
       "    <tr>\n",
       "      <th>20</th>\n",
       "      <td>35</td>\n",
       "      <td>XMLTreeCellRenderer</td>\n",
       "      <td>editor window frame window title xml editor di...</td>\n",
       "    </tr>\n",
       "    <tr>\n",
       "      <th>21</th>\n",
       "      <td>10</td>\n",
       "      <td>Localization</td>\n",
       "      <td>localization</td>\n",
       "    </tr>\n",
       "  </tbody>\n",
       "</table>\n",
       "</div>"
      ],
      "text/plain": [
       "    id                          name  \\\n",
       "0   33                  EditorWindow   \n",
       "1   17          AbstractEditorAction   \n",
       "2   16        AbstractEditMenuAction   \n",
       "3   30                  SaveAsAction   \n",
       "4   36                     Resources   \n",
       "5   18  AbstractUnsavedChangesAction   \n",
       "6   39                   XMLDocument   \n",
       "7   29                    SaveAction   \n",
       "8   19            AddAttributeAction   \n",
       "9   20            AddChildNodeAction   \n",
       "10  23              DeleteNodeAction   \n",
       "11  25            NewDummyTreeAction   \n",
       "12  26                 NewTreeAction   \n",
       "13  27                OpenFileAction   \n",
       "14  43                       XMLTree   \n",
       "15  34         TreeEditingKeyAdapter   \n",
       "16  24               ExpandAllAction   \n",
       "17  22             CollapseAllAction   \n",
       "18  21                   CloseAction   \n",
       "19  28                    QuitAction   \n",
       "20  35           XMLTreeCellRenderer   \n",
       "21  10                  Localization   \n",
       "\n",
       "                                                terms  \n",
       "0   editor window frame window title xml editor di...  \n",
       "1   editor action action editor window editor wind...  \n",
       "2   edit menu action editor action tree selection ...  \n",
       "3   save action editor action tree model listener ...  \n",
       "4   resource resource bundle resource bundle resou...  \n",
       "5   unsaved changes action save action save docume...  \n",
       "6   xml document xml header xml node root node cho...  \n",
       "7   save action save action action action tooltip ...  \n",
       "8   add attribute action edit menu action action a...  \n",
       "9   add child node action edit menu action action ...  \n",
       "10  delete node action edit menu action action con...  \n",
       "11  dummy tree action unsaved change action action...  \n",
       "12  tree action unsaved change action action tree ...  \n",
       "13  open action unsaved change action action open ...  \n",
       "14  xml tree tree top node xml node create empty r...  \n",
       "15  editor window frame window title xml editor di...  \n",
       "16  expand action edit menu action action expand a...  \n",
       "17  collapse action edit menu action action collap...  \n",
       "18  close action unsaved change action action clos...  \n",
       "19  quit action unsaved change action action quit ...  \n",
       "20  editor window frame window title xml editor di...  \n",
       "21                                       localization  "
      ]
     },
     "metadata": {},
     "output_type": "display_data"
    }
   ],
   "source": [
    "display(df)"
   ]
  },
  {
   "cell_type": "code",
   "execution_count": 24,
   "metadata": {},
   "outputs": [],
   "source": [
    "terms_output = ' '.join(list(df.terms))"
   ]
  },
  {
   "cell_type": "code",
   "execution_count": 25,
   "metadata": {},
   "outputs": [],
   "source": [
    "terms_set = ' '.join(set(terms_output.split()))"
   ]
  },
  {
   "cell_type": "code",
   "execution_count": 26,
   "metadata": {},
   "outputs": [
    {
     "data": {
      "text/plain": [
       "'unsaved already fit collapse setup press url gain ask frame editor perform resource image adapter listener tag model type header selection expand create close add item document node path tooltip dummy value empty xml component insert select dimension root cell localization pane write last exception chooser icon text enable release attrib remove attribute accept bundle show delete focus quit filename error find renderer top lose event dialog window structure confirm size save tree description change title child parent rich content action changes open edit key disk closing menu'"
      ]
     },
     "execution_count": 26,
     "metadata": {},
     "output_type": "execute_result"
    }
   ],
   "source": [
    "terms_set"
   ]
  },
  {
   "cell_type": "code",
   "execution_count": null,
   "metadata": {},
   "outputs": [],
   "source": []
  }
 ],
 "metadata": {
  "kernelspec": {
   "display_name": "Python 3",
   "language": "python",
   "name": "python3"
  },
  "language_info": {
   "codemirror_mode": {
    "name": "ipython",
    "version": 3
   },
   "file_extension": ".py",
   "mimetype": "text/x-python",
   "name": "python",
   "nbconvert_exporter": "python",
   "pygments_lexer": "ipython3",
   "version": "3.7.6"
  }
 },
 "nbformat": 4,
 "nbformat_minor": 2
}
