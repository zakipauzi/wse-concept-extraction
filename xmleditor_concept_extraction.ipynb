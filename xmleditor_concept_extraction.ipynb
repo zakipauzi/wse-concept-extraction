{
 "cells": [
  {
   "cell_type": "markdown",
   "metadata": {},
   "source": [
    "# Concept Extraction for XMLEditor"
   ]
  },
  {
   "cell_type": "code",
   "execution_count": 1,
   "metadata": {},
   "outputs": [],
   "source": [
    "import pandas as pd\n",
    "\n",
    "df_info = pd.read_csv('xml_editor.csv', header=None, encoding='utf-8')\n",
    "df_info = df_info.rename(columns={0:'project',1:'module_ID',2:'class_ID',3:'class_name',4:'class_path'})"
   ]
  },
  {
   "cell_type": "markdown",
   "metadata": {},
   "source": [
    "## Only extract Module 1 (sample)"
   ]
  },
  {
   "cell_type": "code",
   "execution_count": 2,
   "metadata": {},
   "outputs": [],
   "source": [
    "df_info_1 = df_info[df_info['module_ID'] == 1]"
   ]
  },
  {
   "cell_type": "code",
   "execution_count": 3,
   "metadata": {},
   "outputs": [
    {
     "data": {
      "text/html": [
       "<div>\n",
       "<style scoped>\n",
       "    .dataframe tbody tr th:only-of-type {\n",
       "        vertical-align: middle;\n",
       "    }\n",
       "\n",
       "    .dataframe tbody tr th {\n",
       "        vertical-align: top;\n",
       "    }\n",
       "\n",
       "    .dataframe thead th {\n",
       "        text-align: right;\n",
       "    }\n",
       "</style>\n",
       "<table border=\"1\" class=\"dataframe\">\n",
       "  <thead>\n",
       "    <tr style=\"text-align: right;\">\n",
       "      <th></th>\n",
       "      <th>project</th>\n",
       "      <th>module_ID</th>\n",
       "      <th>class_ID</th>\n",
       "      <th>class_name</th>\n",
       "      <th>class_path</th>\n",
       "    </tr>\n",
       "  </thead>\n",
       "  <tbody>\n",
       "    <tr>\n",
       "      <th>0</th>\n",
       "      <td>XMLEditor</td>\n",
       "      <td>1</td>\n",
       "      <td>33</td>\n",
       "      <td>ctietze.xmleditor.gui.editor.EditorWindow</td>\n",
       "      <td>/XMLEditor/ctietze/xmleditor/gui/editor/Editor...</td>\n",
       "    </tr>\n",
       "    <tr>\n",
       "      <th>1</th>\n",
       "      <td>XMLEditor</td>\n",
       "      <td>1</td>\n",
       "      <td>17</td>\n",
       "      <td>ctietze.xmleditor.actions.AbstractEditorAction</td>\n",
       "      <td>/XMLEditor/ctietze/xmleditor/actions/AbstractE...</td>\n",
       "    </tr>\n",
       "    <tr>\n",
       "      <th>2</th>\n",
       "      <td>XMLEditor</td>\n",
       "      <td>1</td>\n",
       "      <td>16</td>\n",
       "      <td>ctietze.xmleditor.actions.AbstractEditMenuAction</td>\n",
       "      <td>/XMLEditor/ctietze/xmleditor/actions/AbstractE...</td>\n",
       "    </tr>\n",
       "    <tr>\n",
       "      <th>3</th>\n",
       "      <td>XMLEditor</td>\n",
       "      <td>1</td>\n",
       "      <td>30</td>\n",
       "      <td>ctietze.xmleditor.actions.SaveAsAction</td>\n",
       "      <td>/XMLEditor/ctietze/xmleditor/actions/SaveAsAct...</td>\n",
       "    </tr>\n",
       "    <tr>\n",
       "      <th>4</th>\n",
       "      <td>XMLEditor</td>\n",
       "      <td>1</td>\n",
       "      <td>36</td>\n",
       "      <td>ctietze.xmleditor.Resources</td>\n",
       "      <td>/XMLEditor/ctietze/xmleditor/Resources.java</td>\n",
       "    </tr>\n",
       "  </tbody>\n",
       "</table>\n",
       "</div>"
      ],
      "text/plain": [
       "     project  module_ID  class_ID  \\\n",
       "0  XMLEditor          1        33   \n",
       "1  XMLEditor          1        17   \n",
       "2  XMLEditor          1        16   \n",
       "3  XMLEditor          1        30   \n",
       "4  XMLEditor          1        36   \n",
       "\n",
       "                                         class_name  \\\n",
       "0         ctietze.xmleditor.gui.editor.EditorWindow   \n",
       "1    ctietze.xmleditor.actions.AbstractEditorAction   \n",
       "2  ctietze.xmleditor.actions.AbstractEditMenuAction   \n",
       "3            ctietze.xmleditor.actions.SaveAsAction   \n",
       "4                       ctietze.xmleditor.Resources   \n",
       "\n",
       "                                          class_path  \n",
       "0  /XMLEditor/ctietze/xmleditor/gui/editor/Editor...  \n",
       "1  /XMLEditor/ctietze/xmleditor/actions/AbstractE...  \n",
       "2  /XMLEditor/ctietze/xmleditor/actions/AbstractE...  \n",
       "3  /XMLEditor/ctietze/xmleditor/actions/SaveAsAct...  \n",
       "4        /XMLEditor/ctietze/xmleditor/Resources.java  "
      ]
     },
     "execution_count": 3,
     "metadata": {},
     "output_type": "execute_result"
    }
   ],
   "source": [
    "df_info_1.head()"
   ]
  },
  {
   "cell_type": "code",
   "execution_count": 4,
   "metadata": {},
   "outputs": [
    {
     "name": "stdout",
     "output_type": "stream",
     "text": [
      "No. of classes: 43\n"
     ]
    }
   ],
   "source": [
    "print('No. of classes: {}'.format(df_info.shape[0]))"
   ]
  },
  {
   "cell_type": "markdown",
   "metadata": {},
   "source": [
    "## Class ID / names"
   ]
  },
  {
   "cell_type": "code",
   "execution_count": 5,
   "metadata": {},
   "outputs": [],
   "source": [
    "class_names = list(df_info.class_name)"
   ]
  },
  {
   "cell_type": "code",
   "execution_count": 6,
   "metadata": {},
   "outputs": [],
   "source": [
    "class_names = [x.split('.')[-1] for x in class_names]"
   ]
  },
  {
   "cell_type": "code",
   "execution_count": 7,
   "metadata": {},
   "outputs": [],
   "source": [
    "class_id = list(df_info.class_ID)"
   ]
  },
  {
   "cell_type": "markdown",
   "metadata": {},
   "source": [
    "## Extraction"
   ]
  },
  {
   "cell_type": "code",
   "execution_count": 8,
   "metadata": {},
   "outputs": [],
   "source": [
    "import spacy\n",
    "\n",
    "nlp = spacy.load('en_core_web_md')\n",
    "nlp.max_length = 4000000"
   ]
  },
  {
   "cell_type": "code",
   "execution_count": 9,
   "metadata": {},
   "outputs": [],
   "source": [
    "import code_extract as ce\n",
    "import re\n",
    "\n",
    "kw = ce.generate_kw()\n",
    "kw_pattern = re.compile(r'\\b(' + r'|'.join(kw) + r')\\b\\s*')\n",
    "\n",
    "extracted = []"
   ]
  },
  {
   "cell_type": "code",
   "execution_count": 10,
   "metadata": {},
   "outputs": [],
   "source": [
    "classes = list(df_info.class_path)\n",
    "classes = [x[1:] for x in classes]"
   ]
  },
  {
   "cell_type": "code",
   "execution_count": 11,
   "metadata": {},
   "outputs": [],
   "source": [
    "for class_path in classes:\n",
    "    extracted.append(ce.code_ingest(class_path, kw_pattern, nlp))"
   ]
  },
  {
   "cell_type": "markdown",
   "metadata": {},
   "source": [
    "## Output"
   ]
  },
  {
   "cell_type": "code",
   "execution_count": 12,
   "metadata": {},
   "outputs": [],
   "source": [
    "import numpy as np\n",
    "data = np.transpose([class_id, class_names, extracted])"
   ]
  },
  {
   "cell_type": "code",
   "execution_count": 13,
   "metadata": {},
   "outputs": [],
   "source": [
    "df = pd.DataFrame(data, columns = ['id', 'name', 'terms'])"
   ]
  },
  {
   "cell_type": "code",
   "execution_count": 14,
   "metadata": {},
   "outputs": [],
   "source": [
    "# df.to_csv('xmleditor_terms_module_1.csv', encoding='utf-8', index=False)"
   ]
  },
  {
   "cell_type": "code",
   "execution_count": 24,
   "metadata": {},
   "outputs": [],
   "source": [
    "df.terms = df.terms.apply(lambda x: x.split())"
   ]
  },
  {
   "cell_type": "code",
   "execution_count": 25,
   "metadata": {},
   "outputs": [
    {
     "data": {
      "text/html": [
       "<div>\n",
       "<style scoped>\n",
       "    .dataframe tbody tr th:only-of-type {\n",
       "        vertical-align: middle;\n",
       "    }\n",
       "\n",
       "    .dataframe tbody tr th {\n",
       "        vertical-align: top;\n",
       "    }\n",
       "\n",
       "    .dataframe thead th {\n",
       "        text-align: right;\n",
       "    }\n",
       "</style>\n",
       "<table border=\"1\" class=\"dataframe\">\n",
       "  <thead>\n",
       "    <tr style=\"text-align: right;\">\n",
       "      <th></th>\n",
       "      <th>id</th>\n",
       "      <th>name</th>\n",
       "      <th>terms</th>\n",
       "    </tr>\n",
       "  </thead>\n",
       "  <tbody>\n",
       "    <tr>\n",
       "      <th>0</th>\n",
       "      <td>33</td>\n",
       "      <td>EditorWindow</td>\n",
       "      <td>[editor, window, frame, window, title, xml, ed...</td>\n",
       "    </tr>\n",
       "    <tr>\n",
       "      <th>1</th>\n",
       "      <td>17</td>\n",
       "      <td>AbstractEditorAction</td>\n",
       "      <td>[editor, action, action, editor, window, edito...</td>\n",
       "    </tr>\n",
       "    <tr>\n",
       "      <th>2</th>\n",
       "      <td>16</td>\n",
       "      <td>AbstractEditMenuAction</td>\n",
       "      <td>[edit, menu, action, editor, action, tree, sel...</td>\n",
       "    </tr>\n",
       "    <tr>\n",
       "      <th>3</th>\n",
       "      <td>30</td>\n",
       "      <td>SaveAsAction</td>\n",
       "      <td>[save, action, editor, action, tree, model, li...</td>\n",
       "    </tr>\n",
       "    <tr>\n",
       "      <th>4</th>\n",
       "      <td>36</td>\n",
       "      <td>Resources</td>\n",
       "      <td>[resource, resource, bundle, resource, bundle,...</td>\n",
       "    </tr>\n",
       "  </tbody>\n",
       "</table>\n",
       "</div>"
      ],
      "text/plain": [
       "   id                    name  \\\n",
       "0  33            EditorWindow   \n",
       "1  17    AbstractEditorAction   \n",
       "2  16  AbstractEditMenuAction   \n",
       "3  30            SaveAsAction   \n",
       "4  36               Resources   \n",
       "\n",
       "                                               terms  \n",
       "0  [editor, window, frame, window, title, xml, ed...  \n",
       "1  [editor, action, action, editor, window, edito...  \n",
       "2  [edit, menu, action, editor, action, tree, sel...  \n",
       "3  [save, action, editor, action, tree, model, li...  \n",
       "4  [resource, resource, bundle, resource, bundle,...  "
      ]
     },
     "execution_count": 25,
     "metadata": {},
     "output_type": "execute_result"
    }
   ],
   "source": [
    "df.head()"
   ]
  },
  {
   "cell_type": "code",
   "execution_count": 17,
   "metadata": {},
   "outputs": [],
   "source": [
    "#terms_set = ' '.join(set(terms_output.split()))"
   ]
  },
  {
   "cell_type": "code",
   "execution_count": 26,
   "metadata": {},
   "outputs": [],
   "source": [
    "terms_output = list(df.terms)"
   ]
  },
  {
   "cell_type": "code",
   "execution_count": 36,
   "metadata": {},
   "outputs": [
    {
     "data": {
      "text/plain": [
       "['delete',\n",
       " 'node',\n",
       " 'action',\n",
       " 'edit',\n",
       " 'menu',\n",
       " 'action',\n",
       " 'action',\n",
       " 'confirm',\n",
       " 'dialog',\n",
       " 'title',\n",
       " 'confirm',\n",
       " 'dialog',\n",
       " 'text',\n",
       " 'delete',\n",
       " 'node',\n",
       " 'action',\n",
       " 'editor',\n",
       " 'window',\n",
       " 'editor',\n",
       " 'action',\n",
       " 'perform',\n",
       " 'action',\n",
       " 'event',\n",
       " 'selection',\n",
       " 'fit',\n",
       " 'enable',\n",
       " 'xml',\n",
       " 'node',\n",
       " 'select',\n",
       " 'node']"
      ]
     },
     "execution_count": 36,
     "metadata": {},
     "output_type": "execute_result"
    }
   ],
   "source": [
    "terms_output[10]"
   ]
  },
  {
   "cell_type": "markdown",
   "metadata": {},
   "source": [
    "## Topic Modelling with LDA"
   ]
  },
  {
   "cell_type": "code",
   "execution_count": 28,
   "metadata": {},
   "outputs": [
    {
     "name": "stderr",
     "output_type": "stream",
     "text": [
      "INFO:gensim.corpora.dictionary:adding document #0 to Dictionary(0 unique tokens: [])\n",
      "INFO:gensim.corpora.dictionary:built Dictionary(159 unique tokens: ['action', 'adapter', 'add', 'attrib', 'attribute']...) from 43 documents (total 2260 corpus positions)\n"
     ]
    }
   ],
   "source": [
    "import gensim\n",
    "\n",
    "processed_docs = terms_output\n",
    "\n",
    "dictionary = gensim.corpora.Dictionary(processed_docs)"
   ]
  },
  {
   "cell_type": "code",
   "execution_count": 29,
   "metadata": {},
   "outputs": [
    {
     "name": "stdout",
     "output_type": "stream",
     "text": [
      "0 action\n",
      "1 adapter\n",
      "2 add\n",
      "3 attrib\n",
      "4 attribute\n",
      "5 cell\n",
      "6 change\n",
      "7 child\n",
      "8 close\n",
      "9 closing\n",
      "10 collapse\n",
      "11 component\n",
      "12 content\n",
      "13 create\n",
      "14 delete\n",
      "15 dimension\n",
      "16 document\n",
      "17 dummy\n",
      "18 edit\n",
      "19 editor\n",
      "20 event\n",
      "21 expand\n",
      "22 frame\n",
      "23 icon\n",
      "24 item\n",
      "25 key\n",
      "26 listener\n",
      "27 menu\n",
      "28 node\n",
      "29 open\n",
      "30 pane\n"
     ]
    }
   ],
   "source": [
    "'''\n",
    "Checking dictionary created\n",
    "'''\n",
    "count = 0\n",
    "for k, v in dictionary.iteritems():\n",
    "    print(k, v)\n",
    "    count += 1\n",
    "    if count > 30:\n",
    "        break"
   ]
  },
  {
   "cell_type": "code",
   "execution_count": 30,
   "metadata": {},
   "outputs": [],
   "source": [
    "bow_corpus = [dictionary.doc2bow(doc) for doc in processed_docs]"
   ]
  },
  {
   "cell_type": "code",
   "execution_count": 31,
   "metadata": {},
   "outputs": [
    {
     "name": "stdout",
     "output_type": "stream",
     "text": [
      "Word 0 (\"action\") appears 9 time(s).\n",
      "Word 6 (\"change\") appears 3 time(s).\n",
      "Word 16 (\"document\") appears 4 time(s).\n",
      "Word 19 (\"editor\") appears 4 time(s).\n",
      "Word 20 (\"event\") appears 3 time(s).\n",
      "Word 29 (\"open\") appears 1 time(s).\n",
      "Word 37 (\"save\") appears 4 time(s).\n",
      "Word 43 (\"text\") appears 1 time(s).\n",
      "Word 44 (\"title\") appears 1 time(s).\n",
      "Word 48 (\"window\") appears 2 time(s).\n",
      "Word 63 (\"perform\") appears 2 time(s).\n",
      "Word 71 (\"ask\") appears 1 time(s).\n",
      "Word 72 (\"changes\") appears 3 time(s).\n",
      "Word 73 (\"unsaved\") appears 4 time(s).\n"
     ]
    }
   ],
   "source": [
    "'''\n",
    "Preview BOW for our sample preprocessed document\n",
    "'''\n",
    "document_num = 5\n",
    "bow_doc_x = bow_corpus[document_num]\n",
    "\n",
    "for i in range(len(bow_doc_x)):\n",
    "    print(\"Word {} (\\\"{}\\\") appears {} time(s).\".format(bow_doc_x[i][0], \n",
    "                                                     dictionary[bow_doc_x[i][0]], \n",
    "                                                     bow_doc_x[i][1]))"
   ]
  },
  {
   "cell_type": "markdown",
   "metadata": {},
   "source": [
    "## Gensim LDA"
   ]
  },
  {
   "cell_type": "code",
   "execution_count": 34,
   "metadata": {},
   "outputs": [
    {
     "name": "stderr",
     "output_type": "stream",
     "text": [
      "INFO:gensim.models.ldamodel:using symmetric alpha at 0.3333333333333333\n",
      "INFO:gensim.models.ldamodel:using symmetric eta at 0.3333333333333333\n",
      "INFO:gensim.models.ldamodel:using serial LDA version on this node\n",
      "INFO:gensim.models.ldamulticore:running online LDA training, 3 topics, 10 passes over the supplied corpus of 43 documents, updating every 4000 documents, evaluating every ~43 documents, iterating 50x with a convergence threshold of 0.001000\n",
      "INFO:gensim.models.ldamulticore:training LDA model using 2 processes\n",
      "INFO:gensim.models.ldamulticore:PROGRESS: pass 0, dispatched chunk #0 = documents up to #43/43, outstanding queue size 1\n",
      "DEBUG:gensim.models.ldamodel:updating topics\n",
      "INFO:gensim.models.ldamodel:topic #0 (0.333): 0.081*\"node\" + 0.073*\"xml\" + 0.039*\"content\" + 0.033*\"attribute\" + 0.031*\"action\" + 0.027*\"tree\" + 0.022*\"event\" + 0.020*\"exception\" + 0.019*\"comment\" + 0.018*\"tag\"\n",
      "INFO:gensim.models.ldamodel:topic #1 (0.333): 0.138*\"action\" + 0.082*\"tree\" + 0.054*\"key\" + 0.048*\"editor\" + 0.040*\"xml\" + 0.037*\"event\" + 0.034*\"node\" + 0.024*\"window\" + 0.021*\"change\" + 0.019*\"content\"\n",
      "INFO:gensim.models.ldamodel:topic #2 (0.333): 0.119*\"action\" + 0.063*\"tree\" + 0.053*\"key\" + 0.048*\"event\" + 0.041*\"node\" + 0.039*\"editor\" + 0.032*\"xml\" + 0.026*\"menu\" + 0.026*\"edit\" + 0.023*\"document\"\n",
      "INFO:gensim.models.ldamodel:topic diff=1.748986, rho=1.000000\n",
      "DEBUG:gensim.models.ldamodel:bound: at document #0\n",
      "INFO:gensim.models.ldamodel:-4.193 per-word bound, 18.3 perplexity estimate based on a held-out corpus of 43 documents with 2260 words\n",
      "INFO:gensim.models.ldamulticore:PROGRESS: pass 1, dispatched chunk #0 = documents up to #43/43, outstanding queue size 1\n",
      "DEBUG:gensim.models.ldamodel:updating topics\n",
      "INFO:gensim.models.ldamodel:topic #0 (0.333): 0.082*\"xml\" + 0.080*\"node\" + 0.057*\"content\" + 0.033*\"attribute\" + 0.029*\"tag\" + 0.028*\"comment\" + 0.023*\"attrib\" + 0.022*\"exception\" + 0.022*\"url\" + 0.020*\"text\"\n",
      "INFO:gensim.models.ldamodel:topic #1 (0.333): 0.154*\"action\" + 0.092*\"tree\" + 0.055*\"editor\" + 0.046*\"key\" + 0.042*\"event\" + 0.035*\"xml\" + 0.034*\"node\" + 0.029*\"window\" + 0.025*\"change\" + 0.022*\"save\"\n",
      "INFO:gensim.models.ldamodel:topic #2 (0.333): 0.119*\"action\" + 0.073*\"key\" + 0.068*\"tree\" + 0.055*\"event\" + 0.041*\"editor\" + 0.040*\"node\" + 0.031*\"menu\" + 0.029*\"edit\" + 0.028*\"xml\" + 0.023*\"add\"\n",
      "INFO:gensim.models.ldamodel:topic diff=0.462110, rho=0.703336\n",
      "DEBUG:gensim.models.ldamodel:bound: at document #0\n",
      "INFO:gensim.models.ldamodel:-4.074 per-word bound, 16.8 perplexity estimate based on a held-out corpus of 43 documents with 2260 words\n",
      "INFO:gensim.models.ldamulticore:PROGRESS: pass 2, dispatched chunk #0 = documents up to #43/43, outstanding queue size 1\n",
      "DEBUG:gensim.models.ldamodel:updating topics\n",
      "INFO:gensim.models.ldamodel:topic #0 (0.333): 0.085*\"xml\" + 0.079*\"node\" + 0.063*\"content\" + 0.032*\"tag\" + 0.031*\"attribute\" + 0.031*\"comment\" + 0.025*\"attrib\" + 0.023*\"exception\" + 0.023*\"url\" + 0.021*\"cdata\"\n",
      "INFO:gensim.models.ldamodel:topic #1 (0.333): 0.165*\"action\" + 0.090*\"tree\" + 0.058*\"editor\" + 0.041*\"event\" + 0.037*\"node\" + 0.034*\"xml\" + 0.033*\"window\" + 0.031*\"key\" + 0.027*\"change\" + 0.025*\"save\"\n",
      "INFO:gensim.models.ldamodel:topic #2 (0.333): 0.112*\"action\" + 0.090*\"key\" + 0.077*\"tree\" + 0.058*\"event\" + 0.041*\"editor\" + 0.037*\"node\" + 0.031*\"menu\" + 0.028*\"xml\" + 0.028*\"edit\" + 0.026*\"add\"\n",
      "INFO:gensim.models.ldamodel:topic diff=0.251120, rho=0.575292\n",
      "DEBUG:gensim.models.ldamodel:bound: at document #0\n",
      "INFO:gensim.models.ldamodel:-4.035 per-word bound, 16.4 perplexity estimate based on a held-out corpus of 43 documents with 2260 words\n",
      "INFO:gensim.models.ldamulticore:PROGRESS: pass 3, dispatched chunk #0 = documents up to #43/43, outstanding queue size 1\n",
      "DEBUG:gensim.models.ldamodel:updating topics\n",
      "INFO:gensim.models.ldamodel:topic #0 (0.333): 0.086*\"xml\" + 0.079*\"node\" + 0.065*\"content\" + 0.033*\"tag\" + 0.032*\"comment\" + 0.031*\"attribute\" + 0.026*\"attrib\" + 0.024*\"exception\" + 0.023*\"url\" + 0.022*\"cdata\"\n",
      "INFO:gensim.models.ldamodel:topic #1 (0.333): 0.177*\"action\" + 0.083*\"tree\" + 0.059*\"editor\" + 0.041*\"event\" + 0.041*\"node\" + 0.036*\"window\" + 0.033*\"xml\" + 0.028*\"change\" + 0.026*\"save\" + 0.021*\"document\"\n",
      "INFO:gensim.models.ldamodel:topic #2 (0.333): 0.102*\"action\" + 0.101*\"key\" + 0.088*\"tree\" + 0.059*\"event\" + 0.041*\"editor\" + 0.034*\"node\" + 0.030*\"menu\" + 0.029*\"xml\" + 0.026*\"edit\" + 0.026*\"add\"\n",
      "INFO:gensim.models.ldamodel:topic diff=0.148482, rho=0.498662\n",
      "DEBUG:gensim.models.ldamodel:bound: at document #0\n",
      "INFO:gensim.models.ldamodel:-4.014 per-word bound, 16.2 perplexity estimate based on a held-out corpus of 43 documents with 2260 words\n",
      "INFO:gensim.models.ldamulticore:PROGRESS: pass 4, dispatched chunk #0 = documents up to #43/43, outstanding queue size 1\n",
      "DEBUG:gensim.models.ldamodel:updating topics\n",
      "INFO:gensim.models.ldamodel:topic #0 (0.333): 0.087*\"xml\" + 0.079*\"node\" + 0.066*\"content\" + 0.034*\"tag\" + 0.033*\"comment\" + 0.031*\"attribute\" + 0.026*\"attrib\" + 0.024*\"exception\" + 0.024*\"url\" + 0.022*\"cdata\"\n",
      "INFO:gensim.models.ldamodel:topic #1 (0.333): 0.186*\"action\" + 0.077*\"tree\" + 0.059*\"editor\" + 0.045*\"node\" + 0.040*\"event\" + 0.038*\"window\" + 0.033*\"xml\" + 0.027*\"save\" + 0.027*\"change\" + 0.022*\"document\"\n",
      "INFO:gensim.models.ldamodel:topic #2 (0.333): 0.111*\"key\" + 0.096*\"tree\" + 0.089*\"action\" + 0.061*\"event\" + 0.041*\"editor\" + 0.030*\"node\" + 0.029*\"xml\" + 0.029*\"menu\" + 0.027*\"cell\" + 0.027*\"add\"\n",
      "INFO:gensim.models.ldamodel:topic diff=0.095424, rho=0.446255\n",
      "DEBUG:gensim.models.ldamodel:bound: at document #0\n",
      "INFO:gensim.models.ldamodel:-3.998 per-word bound, 16.0 perplexity estimate based on a held-out corpus of 43 documents with 2260 words\n",
      "INFO:gensim.models.ldamulticore:PROGRESS: pass 5, dispatched chunk #0 = documents up to #43/43, outstanding queue size 1\n",
      "DEBUG:gensim.models.ldamodel:updating topics\n",
      "INFO:gensim.models.ldamodel:topic #0 (0.333): 0.087*\"xml\" + 0.078*\"node\" + 0.067*\"content\" + 0.034*\"tag\" + 0.033*\"comment\" + 0.031*\"attribute\" + 0.027*\"attrib\" + 0.024*\"exception\" + 0.024*\"url\" + 0.023*\"cdata\"\n",
      "INFO:gensim.models.ldamodel:topic #1 (0.333): 0.192*\"action\" + 0.072*\"tree\" + 0.058*\"editor\" + 0.048*\"node\" + 0.039*\"event\" + 0.038*\"window\" + 0.033*\"xml\" + 0.028*\"save\" + 0.026*\"change\" + 0.023*\"edit\"\n",
      "INFO:gensim.models.ldamodel:topic #2 (0.333): 0.121*\"key\" + 0.103*\"tree\" + 0.076*\"action\" + 0.063*\"event\" + 0.041*\"editor\" + 0.030*\"cell\" + 0.029*\"xml\" + 0.027*\"menu\" + 0.027*\"adapter\" + 0.026*\"add\"\n",
      "INFO:gensim.models.ldamodel:topic diff=0.078697, rho=0.407519\n",
      "DEBUG:gensim.models.ldamodel:bound: at document #0\n",
      "INFO:gensim.models.ldamodel:-3.985 per-word bound, 15.8 perplexity estimate based on a held-out corpus of 43 documents with 2260 words\n",
      "INFO:gensim.models.ldamulticore:PROGRESS: pass 6, dispatched chunk #0 = documents up to #43/43, outstanding queue size 1\n",
      "DEBUG:gensim.models.ldamodel:updating topics\n",
      "INFO:gensim.models.ldamodel:topic #0 (0.333): 0.087*\"xml\" + 0.078*\"node\" + 0.067*\"content\" + 0.035*\"tag\" + 0.033*\"comment\" + 0.031*\"attribute\" + 0.027*\"attrib\" + 0.024*\"exception\" + 0.024*\"url\" + 0.023*\"cdata\"\n",
      "INFO:gensim.models.ldamodel:topic #1 (0.333): 0.195*\"action\" + 0.069*\"tree\" + 0.057*\"editor\" + 0.050*\"node\" + 0.039*\"event\" + 0.038*\"window\" + 0.034*\"xml\" + 0.027*\"save\" + 0.024*\"change\" + 0.024*\"menu\"\n",
      "INFO:gensim.models.ldamodel:topic #2 (0.333): 0.132*\"key\" + 0.111*\"tree\" + 0.066*\"event\" + 0.064*\"action\" + 0.041*\"editor\" + 0.032*\"cell\" + 0.029*\"adapter\" + 0.028*\"xml\" + 0.025*\"menu\" + 0.024*\"press\"\n",
      "INFO:gensim.models.ldamodel:topic diff=0.068582, rho=0.377385\n",
      "DEBUG:gensim.models.ldamodel:bound: at document #0\n",
      "INFO:gensim.models.ldamodel:-3.973 per-word bound, 15.7 perplexity estimate based on a held-out corpus of 43 documents with 2260 words\n",
      "INFO:gensim.models.ldamulticore:PROGRESS: pass 7, dispatched chunk #0 = documents up to #43/43, outstanding queue size 1\n",
      "DEBUG:gensim.models.ldamodel:updating topics\n",
      "INFO:gensim.models.ldamodel:topic #0 (0.333): 0.087*\"xml\" + 0.078*\"node\" + 0.068*\"content\" + 0.035*\"tag\" + 0.033*\"comment\" + 0.031*\"attribute\" + 0.027*\"attrib\" + 0.024*\"exception\" + 0.024*\"url\" + 0.023*\"cdata\"\n",
      "INFO:gensim.models.ldamodel:topic #1 (0.333): 0.197*\"action\" + 0.067*\"tree\" + 0.056*\"editor\" + 0.051*\"node\" + 0.038*\"event\" + 0.037*\"window\" + 0.034*\"xml\" + 0.027*\"save\" + 0.026*\"menu\" + 0.025*\"edit\"\n"
     ]
    },
    {
     "name": "stderr",
     "output_type": "stream",
     "text": [
      "INFO:gensim.models.ldamodel:topic #2 (0.333): 0.142*\"key\" + 0.118*\"tree\" + 0.069*\"event\" + 0.052*\"action\" + 0.042*\"editor\" + 0.034*\"cell\" + 0.031*\"adapter\" + 0.026*\"xml\" + 0.026*\"press\" + 0.022*\"selection\"\n",
      "INFO:gensim.models.ldamodel:topic diff=0.060633, rho=0.353079\n",
      "DEBUG:gensim.models.ldamodel:bound: at document #0\n",
      "INFO:gensim.models.ldamodel:-3.963 per-word bound, 15.6 perplexity estimate based on a held-out corpus of 43 documents with 2260 words\n",
      "INFO:gensim.models.ldamulticore:PROGRESS: pass 8, dispatched chunk #0 = documents up to #43/43, outstanding queue size 1\n",
      "DEBUG:gensim.models.ldamodel:updating topics\n",
      "INFO:gensim.models.ldamodel:topic #0 (0.333): 0.088*\"xml\" + 0.078*\"node\" + 0.068*\"content\" + 0.035*\"tag\" + 0.034*\"comment\" + 0.031*\"attribute\" + 0.027*\"attrib\" + 0.024*\"exception\" + 0.024*\"url\" + 0.023*\"cdata\"\n",
      "INFO:gensim.models.ldamodel:topic #1 (0.333): 0.197*\"action\" + 0.065*\"tree\" + 0.055*\"editor\" + 0.052*\"node\" + 0.038*\"event\" + 0.037*\"window\" + 0.035*\"xml\" + 0.027*\"menu\" + 0.027*\"save\" + 0.026*\"edit\"\n",
      "INFO:gensim.models.ldamodel:topic #2 (0.333): 0.151*\"key\" + 0.124*\"tree\" + 0.071*\"event\" + 0.043*\"editor\" + 0.043*\"action\" + 0.037*\"cell\" + 0.034*\"adapter\" + 0.028*\"press\" + 0.025*\"xml\" + 0.023*\"selection\"\n",
      "INFO:gensim.models.ldamodel:topic diff=0.053620, rho=0.332936\n",
      "DEBUG:gensim.models.ldamodel:bound: at document #0\n",
      "INFO:gensim.models.ldamodel:-3.955 per-word bound, 15.5 perplexity estimate based on a held-out corpus of 43 documents with 2260 words\n",
      "INFO:gensim.models.ldamulticore:PROGRESS: pass 9, dispatched chunk #0 = documents up to #43/43, outstanding queue size 1\n",
      "DEBUG:gensim.models.ldamodel:updating topics\n",
      "INFO:gensim.models.ldamodel:topic #0 (0.333): 0.088*\"xml\" + 0.078*\"node\" + 0.068*\"content\" + 0.035*\"tag\" + 0.034*\"comment\" + 0.031*\"attribute\" + 0.027*\"attrib\" + 0.024*\"exception\" + 0.024*\"url\" + 0.023*\"cdata\"\n",
      "INFO:gensim.models.ldamodel:topic #1 (0.333): 0.197*\"action\" + 0.064*\"tree\" + 0.054*\"editor\" + 0.052*\"node\" + 0.037*\"event\" + 0.036*\"window\" + 0.036*\"xml\" + 0.028*\"menu\" + 0.027*\"save\" + 0.026*\"edit\"\n",
      "INFO:gensim.models.ldamodel:topic #2 (0.333): 0.160*\"key\" + 0.129*\"tree\" + 0.074*\"event\" + 0.044*\"editor\" + 0.039*\"cell\" + 0.036*\"adapter\" + 0.035*\"action\" + 0.029*\"press\" + 0.023*\"selection\" + 0.023*\"xml\"\n",
      "INFO:gensim.models.ldamodel:topic diff=0.047420, rho=0.315888\n",
      "DEBUG:gensim.models.ldamodel:bound: at document #0\n",
      "INFO:gensim.models.ldamodel:-3.947 per-word bound, 15.4 perplexity estimate based on a held-out corpus of 43 documents with 2260 words\n"
     ]
    }
   ],
   "source": [
    "lda_model =  gensim.models.LdaMulticore(bow_corpus, num_topics = 3, id2word=dictionary,\n",
    "                                        passes = 10, workers = 2)"
   ]
  },
  {
   "cell_type": "code",
   "execution_count": 35,
   "metadata": {},
   "outputs": [
    {
     "name": "stderr",
     "output_type": "stream",
     "text": [
      "INFO:gensim.models.ldamodel:topic #0 (0.333): 0.088*\"xml\" + 0.078*\"node\" + 0.068*\"content\" + 0.035*\"tag\" + 0.034*\"comment\" + 0.031*\"attribute\" + 0.027*\"attrib\" + 0.024*\"exception\" + 0.024*\"url\" + 0.023*\"cdata\"\n",
      "INFO:gensim.models.ldamodel:topic #1 (0.333): 0.197*\"action\" + 0.064*\"tree\" + 0.054*\"editor\" + 0.052*\"node\" + 0.037*\"event\" + 0.036*\"window\" + 0.036*\"xml\" + 0.028*\"menu\" + 0.027*\"save\" + 0.026*\"edit\"\n",
      "INFO:gensim.models.ldamodel:topic #2 (0.333): 0.160*\"key\" + 0.129*\"tree\" + 0.074*\"event\" + 0.044*\"editor\" + 0.039*\"cell\" + 0.036*\"adapter\" + 0.035*\"action\" + 0.029*\"press\" + 0.023*\"selection\" + 0.023*\"xml\"\n"
     ]
    },
    {
     "name": "stdout",
     "output_type": "stream",
     "text": [
      "\n",
      "Topic: 0 \n",
      "Weights: 0.088*\"xml\" + 0.078*\"node\" + 0.068*\"content\" + 0.035*\"tag\" + 0.034*\"comment\" + 0.031*\"attribute\" + 0.027*\"attrib\" + 0.024*\"exception\" + 0.024*\"url\" + 0.023*\"cdata\"\n",
      "Cluster: xml-node-content-tag-comment-attribute-attrib-exception-url-cdata\n",
      "\n",
      "=============================================================================\n",
      "\n",
      "Topic: 1 \n",
      "Weights: 0.197*\"action\" + 0.064*\"tree\" + 0.054*\"editor\" + 0.052*\"node\" + 0.037*\"event\" + 0.036*\"window\" + 0.036*\"xml\" + 0.028*\"menu\" + 0.027*\"save\" + 0.026*\"edit\"\n",
      "Cluster: action-tree-editor-node-event-window-xml-menu-save-edit\n",
      "\n",
      "=============================================================================\n",
      "\n",
      "Topic: 2 \n",
      "Weights: 0.160*\"key\" + 0.129*\"tree\" + 0.074*\"event\" + 0.044*\"editor\" + 0.039*\"cell\" + 0.036*\"adapter\" + 0.035*\"action\" + 0.029*\"press\" + 0.023*\"selection\" + 0.023*\"xml\"\n",
      "Cluster: key-tree-event-editor-cell-adapter-action-press-selection-xml\n",
      "\n",
      "=============================================================================\n"
     ]
    }
   ],
   "source": [
    "import re\n",
    "\n",
    "for idx, topic in lda_model.print_topics(-1):\n",
    "  \n",
    "    topic_cluster = re.sub(r'[^A-Za-z ]','',topic)\n",
    "    topic_cluster = '-'.join(topic_cluster.split())\n",
    "  \n",
    "    print(\"\\nTopic: {} \\nWeights: {}\\nCluster: {}\\n\".format(idx, topic, topic_cluster))\n",
    "    print(\"=============================================================================\")"
   ]
  },
  {
   "cell_type": "code",
   "execution_count": null,
   "metadata": {},
   "outputs": [],
   "source": []
  }
 ],
 "metadata": {
  "kernelspec": {
   "display_name": "Python 3",
   "language": "python",
   "name": "python3"
  },
  "language_info": {
   "codemirror_mode": {
    "name": "ipython",
    "version": 3
   },
   "file_extension": ".py",
   "mimetype": "text/x-python",
   "name": "python",
   "nbconvert_exporter": "python",
   "pygments_lexer": "ipython3",
   "version": "3.7.6"
  }
 },
 "nbformat": 4,
 "nbformat_minor": 2
}
